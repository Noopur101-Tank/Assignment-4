{
 "cells": [
  {
   "cell_type": "markdown",
   "id": "0b64e4f9",
   "metadata": {},
   "source": [
    "## Write a Python program to square the elements of a list using map() function."
   ]
  },
  {
   "cell_type": "code",
   "execution_count": 7,
   "id": "e146dfb4",
   "metadata": {},
   "outputs": [
    {
     "name": "stdout",
     "output_type": "stream",
     "text": [
      "Enter a list:4,5,2,9\n",
      "Original list: [4, 5, 2, 9]\n",
      "square_list: [16, 25, 4, 81]\n"
     ]
    }
   ],
   "source": [
    "numbers=list(map(int,input(\"Enter a list:\").split(\",\")))\n",
    "def square(num):\n",
    "    return num*num\n",
    "square_num=list(map(square,numbers))\n",
    "print(\"Original list:\",numbers)\n",
    "print(\"square_list:\",square_num)"
   ]
  }
 ],
 "metadata": {
  "kernelspec": {
   "display_name": "Python 3 (ipykernel)",
   "language": "python",
   "name": "python3"
  },
  "language_info": {
   "codemirror_mode": {
    "name": "ipython",
    "version": 3
   },
   "file_extension": ".py",
   "mimetype": "text/x-python",
   "name": "python",
   "nbconvert_exporter": "python",
   "pygments_lexer": "ipython3",
   "version": "3.10.9"
  }
 },
 "nbformat": 4,
 "nbformat_minor": 5
}
