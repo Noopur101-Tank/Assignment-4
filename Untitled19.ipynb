{
 "cells": [
  {
   "cell_type": "markdown",
   "id": "2d887eee",
   "metadata": {},
   "source": [
    "## Write a Python program to triple all numbers of a given list of integers. Use Python map."
   ]
  },
  {
   "cell_type": "code",
   "execution_count": 6,
   "id": "f7c320f3",
   "metadata": {},
   "outputs": [
    {
     "name": "stdout",
     "output_type": "stream",
     "text": [
      "Enter the list of numbers:1,2,3,4,5,6,7\n",
      "Original list: [1, 2, 3, 4, 5, 6, 7]\n",
      "Triple list: [3, 6, 9, 12, 15, 18, 21]\n"
     ]
    }
   ],
   "source": [
    "numbers=list(map(int,input(\"Enter the list of numbers:\").split(\",\")))\n",
    "def triple(num):\n",
    "    return num*3\n",
    "triple_numbers=list(map(triple,numbers))\n",
    "print(\"Original list:\",numbers)\n",
    "print(\"Triple list:\",triple_numbers)"
   ]
  }
 ],
 "metadata": {
  "kernelspec": {
   "display_name": "Python 3 (ipykernel)",
   "language": "python",
   "name": "python3"
  },
  "language_info": {
   "codemirror_mode": {
    "name": "ipython",
    "version": 3
   },
   "file_extension": ".py",
   "mimetype": "text/x-python",
   "name": "python",
   "nbconvert_exporter": "python",
   "pygments_lexer": "ipython3",
   "version": "3.10.9"
  }
 },
 "nbformat": 4,
 "nbformat_minor": 5
}
